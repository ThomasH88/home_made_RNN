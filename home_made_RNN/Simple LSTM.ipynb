{
 "cells": [
  {
   "cell_type": "code",
   "execution_count": 1,
   "metadata": {},
   "outputs": [],
   "source": [
    "import numpy as np\n",
    "import matplotlib.pyplot as plt"
   ]
  },
  {
   "cell_type": "code",
   "execution_count": 12,
   "metadata": {},
   "outputs": [],
   "source": [
    "class LSTM:\n",
    "    \"\"\"End-to-end many to many LSTM network implementation with numpy.\"\"\"\n",
    "    def __init__(self, input_size, units):\n",
    "        \"\"\"\n",
    "        Specify the Network's architecture.\n",
    "        \n",
    "        Initializes weights and biases of the Network.\n",
    "        \n",
    "        Parameters\n",
    "        ----------\n",
    "        input_size (int) : size of the input vector X\n",
    "        units (int) : Number of LSTM cells\n",
    "        \"\"\"\n",
    "        self.input_size = input_size\n",
    "        self.units = units\n",
    "        #self.W = np.random.randn(4, input_size) # this contains [Wa, Wi, Wf, Wo]\n",
    "        #self.U = np.random.randn(4) # this contains [Ua, Ui, Uf, Uo]\n",
    "        #self.b = np.zeros(4) # this contains [ba, bi, bf, bo]\n",
    "        self.W = np.array([[0.45, 0.25], [0.95, 0.8], [0.7, 0.45], [0.6, 0.4]])\n",
    "        self.U = np.array([0.15, 0.8, 0.1, 0.25])\n",
    "        self.b = np.array([0.2, 0.65, 0.15, 0.1])\n",
    "    def sigmoid(self, x):\n",
    "        \"\"\"Calculate the sigmoid of x.\"\"\"\n",
    "        return (1 / (1 + np.exp(-x)))\n",
    "    def forwardprop(self, X, y): # y not being used for the moment\n",
    "        \"\"\"\n",
    "        Forward propagation of the Network.\n",
    "        \n",
    "        Parameters\n",
    "        ----------\n",
    "        X (np ndarray) : Array of input_size * units containing one training example for each unit\n",
    "        y (np array) : Vector containing the label for each unit\n",
    "        \n",
    "        Returns\n",
    "        -------\n",
    "        ops (list) : Contains a dictionary with (a, i, f, o, state, out) for each unit\n",
    "        \"\"\"\n",
    "        prev_state = 0\n",
    "        prev_out = 0\n",
    "        ops = [0] * self.units\n",
    "        for j in range(self.units):\n",
    "            a = np.tanh(np.dot(X[j], self.W[0]) + prev_out * self.U[0] + self.b[0])\n",
    "            i = self.sigmoid(np.dot(X[j], self.W[1]) + prev_out * self.U[1] + self.b[1])\n",
    "            f = self.sigmoid(np.dot(X[j], self.W[2]) + prev_out * self.U[2] + self.b[2])\n",
    "            o = self.sigmoid(np.dot(X[j], self.W[3]) + prev_out * self.U[3] + self.b[3])\n",
    "            \n",
    "            state = prev_state * f + i * a\n",
    "            out = o * np.tanh(state)\n",
    "            print(\"out = \", out)\n",
    "            ops[j] = {'a': a, 'i': i, 'f': f, 'o': o, 'state': state, 'out': out}\n",
    "            prev_state = state\n",
    "            prev_out = out\n",
    "        self.ops = ops\n",
    "        return (ops)\n",
    "    def backprop(self, ops, y):\n",
    "        \"\"\"\n",
    "        Backpropagation of the Network.\n",
    "        \n",
    "        Parameters\n",
    "        ----------\n",
    "        ops (list) : Contains a tuple with (a, i, f, o, state, out) for each unit (calculated during forwardprop)\n",
    "        y (np array) : Vector containing the label for each unit\n",
    "        \n",
    "        Returns\n",
    "        -------\n",
    "        List containing all the deltas calculated during backprop\n",
    "        \"\"\"\n",
    "        delta_prev_out = 0\n",
    "        delta_prev_state = 0 # delta_prev_state * prev_f\n",
    "        for j in range(self.units - 1, -1, -1):\n",
    "            delta_loss = ops[j]['out'] - y[j]\n",
    "            delta_out = delta_loss + delta_prev_out\n",
    "            delta_state = delta_out * ops[j]['o'] * (1 - np.tanh(ops[j]['state'])**2) + delta_prev_state\n",
    "            delta_a = delta_state * ops[j]['i'] * (1 - ops[j]['a']**2)\n",
    "            delta_i = delta_state * ops[j]['a'] * ops[j]['i'] * (1 - ops[j]['i'])\n",
    "            if (j - 1 >= 0):\n",
    "                delta_f = delta_state * ops[j-1]['state']\n",
    "            delta_o ="
   ]
  },
  {
   "cell_type": "code",
   "execution_count": 31,
   "metadata": {},
   "outputs": [],
   "source": [
    "a = [1, 2]"
   ]
  },
  {
   "cell_type": "code",
   "execution_count": null,
   "metadata": {},
   "outputs": [],
   "source": [
    "if a[3]:"
   ]
  },
  {
   "cell_type": "code",
   "execution_count": 13,
   "metadata": {},
   "outputs": [],
   "source": [
    "x0 = np.array([1, 2])\n",
    "x1 = np.array([0.5, 3])\n",
    "X = np.array([x0, x1])\n",
    "y0 = 0.5\n",
    "y1 = 1.25\n",
    "y = np.array([y0, y1])"
   ]
  },
  {
   "cell_type": "code",
   "execution_count": 14,
   "metadata": {},
   "outputs": [],
   "source": [
    "net = LSTM(2, 2)"
   ]
  },
  {
   "cell_type": "code",
   "execution_count": 15,
   "metadata": {},
   "outputs": [
    {
     "name": "stdout",
     "output_type": "stream",
     "text": [
      "\n",
      "out =  0.5363133978820118\n",
      "\n",
      "out =  0.7719811057588907\n"
     ]
    }
   ],
   "source": [
    "ops = net.forwardprop(X, y)"
   ]
  },
  {
   "cell_type": "code",
   "execution_count": 23,
   "metadata": {},
   "outputs": [
    {
     "data": {
      "text/plain": [
       "0.7719811057588907"
      ]
     },
     "execution_count": 23,
     "metadata": {},
     "output_type": "execute_result"
    }
   ],
   "source": [
    "ops[1][5]"
   ]
  },
  {
   "cell_type": "code",
   "execution_count": null,
   "metadata": {},
   "outputs": [],
   "source": []
  }
 ],
 "metadata": {
  "kernelspec": {
   "display_name": "Python 3",
   "language": "python",
   "name": "python3"
  },
  "language_info": {
   "codemirror_mode": {
    "name": "ipython",
    "version": 3
   },
   "file_extension": ".py",
   "mimetype": "text/x-python",
   "name": "python",
   "nbconvert_exporter": "python",
   "pygments_lexer": "ipython3",
   "version": "3.7.1"
  }
 },
 "nbformat": 4,
 "nbformat_minor": 2
}
