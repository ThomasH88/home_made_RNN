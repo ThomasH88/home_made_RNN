{
 "cells": [
  {
   "cell_type": "code",
   "execution_count": 1,
   "metadata": {},
   "outputs": [],
   "source": [
    "import numpy as np"
   ]
  },
  {
   "cell_type": "code",
   "execution_count": 2,
   "metadata": {},
   "outputs": [],
   "source": [
    "# declare the initial variables\n",
    "Wa = np.array([0.45, 0.25])\n",
    "Wi = np.array([0.95, 0.8])\n",
    "Wf = np.array([0.7, 0.45])\n",
    "Wo = np.array([0.6, 0.4])\n",
    "W = np.array([Wa, Wi, Wf, Wo])\n",
    "\n",
    "Ua = 0.15\n",
    "Ui = 0.8\n",
    "Uf = 0.1\n",
    "Uo = 0.25\n",
    "U = np.array([Ua, Ui, Uf, Uo])\n",
    "\n",
    "ba = 0.2\n",
    "bi = 0.65\n",
    "bf = 0.15\n",
    "bo = 0.1\n",
    "b = np.array([ba, bi, bf, bo])\n",
    "\n",
    "x0 = np.array([1, 2])\n",
    "x1 = np.array([0.5, 3])\n",
    "y0 = 0.5\n",
    "y1 = 1.25\n",
    "\n",
    "out_minus_one = 0\n",
    "state_minus_one = 0"
   ]
  },
  {
   "cell_type": "code",
   "execution_count": 3,
   "metadata": {},
   "outputs": [],
   "source": [
    "def sigmoid(x):\n",
    "    return (1 / (1 + np.exp(-x)))"
   ]
  },
  {
   "cell_type": "code",
   "execution_count": 4,
   "metadata": {},
   "outputs": [],
   "source": [
    "# forward @ t = 0\n",
    "a0 = np.tanh(np.dot(x0, Wa) + Ua * out_minus_one + ba)\n",
    "i0 = sigmoid(np.dot(x0, Wi) + Ui * out_minus_one + bi)\n",
    "f0 = sigmoid(np.dot(x0, Wf) + Uf * out_minus_one + bf)\n",
    "o0 = sigmoid(np.dot(x0, Wo) + Uo * out_minus_one + bo)\n",
    "state_0 = state_minus_one * f0 + i0 * a0\n",
    "out_0 = np.tanh(state_0) * o0"
   ]
  },
  {
   "cell_type": "code",
   "execution_count": 5,
   "metadata": {},
   "outputs": [
    {
     "name": "stdout",
     "output_type": "stream",
     "text": [
      "a0       0.8177540779702877\n",
      "i0       0.9608342772032357\n",
      "f0       0.8519528019683106\n",
      "o0       0.8175744761936437\n",
      "state_0  0.7857261484365797\n",
      "out_0    0.5363133978820118\n"
     ]
    }
   ],
   "source": [
    "print(\"a0      \", a0)\n",
    "print(\"i0      \", i0)\n",
    "print(\"f0      \", f0)\n",
    "print(\"o0      \", o0)\n",
    "print(\"state_0 \", state_0)\n",
    "print(\"out_0   \", out_0)"
   ]
  },
  {
   "cell_type": "code",
   "execution_count": 6,
   "metadata": {},
   "outputs": [],
   "source": [
    "# forward @ t = 1\n",
    "a1 = np.tanh(np.dot(x1, Wa) + Ua * out_0 + ba)\n",
    "i1 = sigmoid(np.dot(x1, Wi) + Ui * out_0 + bi)\n",
    "f1 = sigmoid(np.dot(x1, Wf) + Uf * out_0 + bf)\n",
    "o1 = sigmoid(np.dot(x1, Wo) + Uo * out_0 + bo)\n",
    "state_1 = state_0 * f1 + i1 * a1\n",
    "out_1 = np.tanh(state_1) * o1"
   ]
  },
  {
   "cell_type": "code",
   "execution_count": 7,
   "metadata": {},
   "outputs": [
    {
     "name": "stdout",
     "output_type": "stream",
     "text": [
      "a1       0.8498040223194213\n",
      "i1       0.9811839683254171\n",
      "f1       0.8703019698552491\n",
      "o1       0.8499333428022842\n",
      "state_1  1.5176330976694041\n",
      "out_1    0.7719811057588907\n"
     ]
    }
   ],
   "source": [
    "print(\"a1      \", a1)\n",
    "print(\"i1      \", i1)\n",
    "print(\"f1      \", f1)\n",
    "print(\"o1      \", o1)\n",
    "print(\"state_1 \", state_1)\n",
    "print(\"out_1   \", out_1)"
   ]
  },
  {
   "cell_type": "code",
   "execution_count": 8,
   "metadata": {},
   "outputs": [],
   "source": [
    "# backward @ t = 1\n",
    "delta_out_1 = out_1 - y1\n",
    "delta_state_1 = delta_out_1 * o1 * (1 - np.tanh(state_1)**2)\n",
    "delta_a1 = delta_state_1 * i1 * (1 - a1**2)\n",
    "delta_i1 = delta_state_1 * a1 * i1 * (1 - i1)\n",
    "delta_f1 = delta_state_1 * state_0 * f1 * (1 - f1)\n",
    "delta_o1 = delta_out_1 * np.tanh(state_1) * o1 * (1 - o1)\n",
    "\n",
    "delta_gates_1 = np.array([delta_a1, delta_i1, delta_f1, delta_o1])\n",
    "delta_x1 = W.T @ delta_gates_1\n",
    "_delta_out_0 = U.T @ delta_gates_1"
   ]
  },
  {
   "cell_type": "code",
   "execution_count": 9,
   "metadata": {},
   "outputs": [
    {
     "name": "stdout",
     "output_type": "stream",
     "text": [
      "delta_a1       -0.01938434750774075\n",
      "delta_i1       -0.001115614070446023\n",
      "delta_f1       -0.006306541742007648\n",
      "delta_o1       -0.05537783112520711\n"
     ]
    }
   ],
   "source": [
    "print(\"delta_a1      \", delta_a1)\n",
    "print(\"delta_i1      \", delta_i1)\n",
    "print(\"delta_f1      \", delta_f1)\n",
    "print(\"delta_o1      \", delta_o1)"
   ]
  },
  {
   "cell_type": "code",
   "execution_count": 10,
   "metadata": {},
   "outputs": [],
   "source": [
    "# backward @ t = 0\n",
    "delta_out_0 = out_0 - y0 + _delta_out_0\n",
    "delta_state_0 = delta_out_0 * o0 * (1 - np.tanh(state_0)**2) + delta_state_1 * f1\n",
    "delta_a0 = delta_state_0 * i0 * (1 - a0**2)\n",
    "delta_i0 = delta_state_0 * a0 * i0 * (1 - i0)\n",
    "delta_f0 = delta_state_0 * state_minus_one * f0 * (1 - f0)\n",
    "delta_o0 = delta_out_0 * np.tanh(state_0) * o0 * (1 - o0)\n",
    "\n",
    "delta_gates_0 = np.array([delta_a0, delta_i0, delta_f0, delta_o0])\n",
    "delta_x0 = W.T @ delta_gates_0\n",
    "_delta_out_minus_one = U.T @ delta_gates_0"
   ]
  },
  {
   "cell_type": "code",
   "execution_count": 11,
   "metadata": {},
   "outputs": [
    {
     "name": "stdout",
     "output_type": "stream",
     "text": [
      "delta_a0       -0.01702404472886597\n",
      "delta_i0       -0.0016458818995508829\n",
      "delta_f0       -0.0\n",
      "delta_o0       0.0017648023073026033\n"
     ]
    }
   ],
   "source": [
    "print(\"delta_a0      \", delta_a0)\n",
    "print(\"delta_i0      \", delta_i0)\n",
    "print(\"delta_f0      \", delta_f0)\n",
    "print(\"delta_o0      \", delta_o0)"
   ]
  },
  {
   "cell_type": "code",
   "execution_count": 12,
   "metadata": {},
   "outputs": [],
   "source": [
    "# update weights\n",
    "l_rate = 0.1\n",
    "delta_W = np.outer(x0, delta_gates_0).T + np.outer(x1, delta_gates_1).T\n",
    "delta_U = out_minus_one * delta_gates_0 + out_0 * delta_gates_1\n",
    "delta_b = delta_gates_0 + delta_gates_1\n",
    "\n",
    "new_W = W - l_rate * delta_W\n",
    "new_U = U - l_rate * delta_U\n",
    "new_b = b - l_rate * delta_b"
   ]
  },
  {
   "cell_type": "code",
   "execution_count": 13,
   "metadata": {},
   "outputs": [
    {
     "name": "stdout",
     "output_type": "stream",
     "text": [
      "new W:\n",
      "[[0.45267162 0.25922011]\n",
      " [0.95022037 0.80066386]\n",
      " [0.70031533 0.45189196]\n",
      " [0.60259241 0.41626039]]\n",
      "\n",
      "new U:\n",
      "[0.15103961 0.80005983 0.10033823 0.25296999]\n",
      "\n",
      "new b:\n",
      "[0.20364084 0.65027615 0.15063065 0.1053613 ]\n"
     ]
    }
   ],
   "source": [
    "print(\"new W:\", new_W, sep=\"\\n\")\n",
    "print()\n",
    "print(\"new U:\", new_U, sep=\"\\n\")\n",
    "print()\n",
    "print(\"new b:\", new_b, sep=\"\\n\")"
   ]
  },
  {
   "cell_type": "code",
   "execution_count": null,
   "metadata": {},
   "outputs": [],
   "source": []
  }
 ],
 "metadata": {
  "kernelspec": {
   "display_name": "Python 3",
   "language": "python",
   "name": "python3"
  },
  "language_info": {
   "codemirror_mode": {
    "name": "ipython",
    "version": 3
   },
   "file_extension": ".py",
   "mimetype": "text/x-python",
   "name": "python",
   "nbconvert_exporter": "python",
   "pygments_lexer": "ipython3",
   "version": "3.7.1"
  }
 },
 "nbformat": 4,
 "nbformat_minor": 2
}
